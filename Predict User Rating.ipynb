{
 "cells": [
  {
   "cell_type": "code",
   "execution_count": null,
   "metadata": {},
   "outputs": [],
   "source": [
    "#This project focusses on the following areas :\n",
    "\n",
    "#Analysis of the dataset\n",
    "#Understanding of the User's Rating Distribution\n",
    "#Predict Recommend Status based on the subjective review provided by the user"
   ]
  },
  {
   "cell_type": "code",
   "execution_count": null,
   "metadata": {},
   "outputs": [],
   "source": [
    "#Cleaning the Datset"
   ]
  },
  {
   "cell_type": "code",
   "execution_count": null,
   "metadata": {},
   "outputs": [],
   "source": [
    "import pandas as pd\n",
    "df = pd.read_csv(r\"C:\\Users\\nayacha\\Downloads\\Consumer Reviews of Amazon Products/1429_1.csv\")\n",
    "df1_oasis = df.iloc[2816:3482,]\n",
    "df2_fire_16gb = df.iloc[14448:15527,]\n",
    "df3_paperwhite_4gb = df.iloc[17216:20392,]\n",
    "df4_voyage = df.iloc[20392:20972,]\n",
    "df5_paperwhite = df.iloc[20989:21019,]\n",
    "#df.head(5)\n"
   ]
  },
  {
   "cell_type": "code",
   "execution_count": 13,
   "metadata": {},
   "outputs": [
    {
     "name": "stdout",
     "output_type": "stream",
     "text": [
      "(666, 21)\n",
      "(1079, 21)\n",
      "(3176, 21)\n",
      "(580, 21)\n",
      "(30, 21)\n"
     ]
    }
   ],
   "source": [
    "print(df1_oasis.shape)\n",
    "print(df2_fire_16gb.shape)\n",
    "print(df3_paperwhite_4gb.shape)\n",
    "print(df4_voyage.shape)\n",
    "print(df5_paperwhite.shape)"
   ]
  },
  {
   "cell_type": "code",
   "execution_count": 14,
   "metadata": {},
   "outputs": [],
   "source": [
    "df1_oasis.to_csv('Oasis.csv')\n",
    "df2_fire_16gb.to_csv('Fire.csv')\n",
    "df4_voyage.to_csv('Voyage.csv')"
   ]
  },
  {
   "cell_type": "code",
   "execution_count": 15,
   "metadata": {
    "scrolled": false
   },
   "outputs": [
    {
     "name": "stdout",
     "output_type": "stream",
     "text": [
      "                         id  \\\n",
      "17216  AVqVGWLKnnc1JgDc3jF1   \n",
      "17217  AVqVGWLKnnc1JgDc3jF1   \n",
      "17218  AVqVGWLKnnc1JgDc3jF1   \n",
      "17219  AVqVGWLKnnc1JgDc3jF1   \n",
      "17220  AVqVGWLKnnc1JgDc3jF1   \n",
      "\n",
      "                                                    name       asins   brand  \\\n",
      "17216  Amazon Kindle Paperwhite - eBook reader - 4 GB...  B018Y23MNM  Amazon   \n",
      "17217  Amazon Kindle Paperwhite - eBook reader - 4 GB...  B018Y23MNM  Amazon   \n",
      "17218  Amazon Kindle Paperwhite - eBook reader - 4 GB...  B018Y23MNM  Amazon   \n",
      "17219  Amazon Kindle Paperwhite - eBook reader - 4 GB...  B018Y23MNM  Amazon   \n",
      "17220  Amazon Kindle Paperwhite - eBook reader - 4 GB...  B018Y23MNM  Amazon   \n",
      "\n",
      "                                              categories  \\\n",
      "17216  Tablets,Fire Tablets,Computers & Tablets,All T...   \n",
      "17217  Tablets,Fire Tablets,Computers & Tablets,All T...   \n",
      "17218  Tablets,Fire Tablets,Computers & Tablets,All T...   \n",
      "17219  Tablets,Fire Tablets,Computers & Tablets,All T...   \n",
      "17220  Tablets,Fire Tablets,Computers & Tablets,All T...   \n",
      "\n",
      "                                                    keys manufacturer  \\\n",
      "17216  firekidseditiontablet7displaywifi16gbgreenkidp...       Amazon   \n",
      "17217  firekidseditiontablet7displaywifi16gbgreenkidp...       Amazon   \n",
      "17218  firekidseditiontablet7displaywifi16gbgreenkidp...       Amazon   \n",
      "17219  firekidseditiontablet7displaywifi16gbgreenkidp...       Amazon   \n",
      "17220  firekidseditiontablet7displaywifi16gbgreenkidp...       Amazon   \n",
      "\n",
      "                   reviews.date     reviews.dateAdded  \\\n",
      "17216  2017-02-05T00:00:00.000Z  2017-06-21T07:38:39Z   \n",
      "17217  2017-02-05T00:00:00.000Z  2017-06-21T07:38:39Z   \n",
      "17218  2017-02-05T00:00:00.000Z  2017-06-21T07:38:39Z   \n",
      "17219  2017-02-04T00:00:00.000Z  2017-06-21T07:38:39Z   \n",
      "17220  2017-02-04T00:00:00.000Z  2017-06-21T07:38:40Z   \n",
      "\n",
      "                                        reviews.dateSeen  ...  \\\n",
      "17216  2017-06-04T02:18:03.660Z,2017-06-03T18:42:15.341Z  ...   \n",
      "17217  2017-06-04T02:18:03.660Z,2017-06-03T18:42:15.341Z  ...   \n",
      "17218  2017-06-04T02:18:03.660Z,2017-06-03T18:42:15.341Z  ...   \n",
      "17219  2017-06-04T02:18:03.660Z,2017-06-03T18:42:15.341Z  ...   \n",
      "17220  2017-06-04T02:18:05.131Z,2017-06-03T18:42:16.147Z  ...   \n",
      "\n",
      "      reviews.doRecommend reviews.id  reviews.numHelpful  reviews.rating  \\\n",
      "17216                True        NaN                 0.0             5.0   \n",
      "17217                True        NaN                 0.0             5.0   \n",
      "17218                True        NaN                 0.0             3.0   \n",
      "17219                True        NaN                 0.0             3.0   \n",
      "17220               False        NaN                 0.0             1.0   \n",
      "\n",
      "                                      reviews.sourceURLs  \\\n",
      "17216  http://reviews.bestbuy.com/3545/5026300/review...   \n",
      "17217  http://reviews.bestbuy.com/3545/5026300/review...   \n",
      "17218  http://reviews.bestbuy.com/3545/5026300/review...   \n",
      "17219  http://reviews.bestbuy.com/3545/5026300/review...   \n",
      "17220  http://reviews.bestbuy.com/3545/5026300/review...   \n",
      "\n",
      "                                            reviews.text        reviews.title  \\\n",
      "17216  Was a gift for our 8 year old daughter. Great ...       Great for kids   \n",
      "17217  my grandkids love it. This is the 3 one we bou...         kids love it   \n",
      "17218  Great case ok tablet no Android play store. We...  Tablet not for kids   \n",
      "17219  Grandson became board with what it offers. Plu...  Good for young kids   \n",
      "17220  This product wouldn't turn on nor charge and t...       Product Issues   \n",
      "\n",
      "      reviews.userCity  reviews.userProvince  reviews.username  \n",
      "17216              NaN                   NaN             Bubba  \n",
      "17217              NaN                   NaN             skeet  \n",
      "17218              NaN                   NaN         Kidsphone  \n",
      "17219              NaN                   NaN           Shannon  \n",
      "17220              NaN                   NaN       FitnessBuff  \n",
      "\n",
      "[5 rows x 21 columns]\n",
      "                         id  \\\n",
      "21014  AVphPmHuilAPnD_x3E5h   \n",
      "21015  AVphPmHuilAPnD_x3E5h   \n",
      "21016  AVphPmHuilAPnD_x3E5h   \n",
      "21017  AVphPmHuilAPnD_x3E5h   \n",
      "21018  AVphPmHuilAPnD_x3E5h   \n",
      "\n",
      "                                                    name       asins   brand  \\\n",
      "21014  Kindle Paperwhite E-reader - White, 6 High-Res...  B00IOY8XWQ  Amazon   \n",
      "21015  Kindle Paperwhite E-reader - White, 6 High-Res...  B00IOY8XWQ  Amazon   \n",
      "21016  Kindle Paperwhite E-reader - White, 6 High-Res...  B00IOY8XWQ  Amazon   \n",
      "21017  Amazon Echo and Fire TV Power Adapter,,,\\r\\nAm...  B00IOY8XWQ  Amazon   \n",
      "21018  Amazon Echo and Fire TV Power Adapter,,,\\r\\nAm...  B00IOY8XWQ  Amazon   \n",
      "\n",
      "                                              categories  \\\n",
      "21014  Walmart for Business,Office Electronics,Tablet...   \n",
      "21015  Walmart for Business,Office Electronics,Tablet...   \n",
      "21016  Walmart for Business,Office Electronics,Tablet...   \n",
      "21017  Walmart for Business,Office Electronics,Tablet...   \n",
      "21018  Walmart for Business,Office Electronics,Tablet...   \n",
      "\n",
      "                                                    keys manufacturer  \\\n",
      "21014  848719040104,kindlevoyageereader6highresolutio...       Amazon   \n",
      "21015  848719040104,kindlevoyageereader6highresolutio...       Amazon   \n",
      "21016  848719040104,kindlevoyageereader6highresolutio...       Amazon   \n",
      "21017  848719040104,kindlevoyageereader6highresolutio...       Amazon   \n",
      "21018  848719040104,kindlevoyageereader6highresolutio...       Amazon   \n",
      "\n",
      "                   reviews.date reviews.dateAdded  \\\n",
      "21014  2016-05-24T00:00:00.000Z               NaN   \n",
      "21015  2016-05-23T00:00:00.000Z               NaN   \n",
      "21016  2016-05-22T00:00:00.000Z               NaN   \n",
      "21017  2016-05-21T00:00:00.000Z               NaN   \n",
      "21018  2016-05-20T00:00:00.000Z               NaN   \n",
      "\n",
      "                                        reviews.dateSeen  ...  \\\n",
      "21014  2017-08-31T00:00:00Z,2017-04-26T00:00:00Z,2017...  ...   \n",
      "21015  2017-08-31T00:00:00Z,2017-04-26T00:00:00Z,2017...  ...   \n",
      "21016  2017-08-31T00:00:00Z,2017-04-26T00:00:00Z,2017...  ...   \n",
      "21017  2017-08-31T00:00:00Z,2017-04-26T00:00:00Z,2017...  ...   \n",
      "21018  2017-08-31T00:00:00Z,2017-04-26T00:00:00Z,2017...  ...   \n",
      "\n",
      "      reviews.doRecommend reviews.id  reviews.numHelpful  reviews.rating  \\\n",
      "21014                True        NaN                 0.0             4.0   \n",
      "21015                True        NaN                 1.0             5.0   \n",
      "21016                True        NaN                 2.0             4.0   \n",
      "21017                True        NaN                 0.0             4.0   \n",
      "21018                True        NaN                 1.0             5.0   \n",
      "\n",
      "                                      reviews.sourceURLs  \\\n",
      "21014  http://reviews.bestbuy.com/3545/9302088/review...   \n",
      "21015  http://reviews.bestbuy.com/3545/9302088/review...   \n",
      "21016  http://reviews.bestbuy.com/3545/9302088/review...   \n",
      "21017  http://reviews.bestbuy.com/3545/9302088/review...   \n",
      "21018  http://reviews.bestbuy.com/3545/9302088/review...   \n",
      "\n",
      "                                            reviews.text  \\\n",
      "21014  I will start off with the fact that I like pap...   \n",
      "21015  Love it, love it!!! Have had several different...   \n",
      "21016  I had the paperwhite, but this voyage is defin...   \n",
      "21017  This is the first e-reader I've gotten and I L...   \n",
      "21018  I previously had a first edition paper white a...   \n",
      "\n",
      "              reviews.title reviews.userCity  reviews.userProvince  \\\n",
      "21014    Does what you need              NaN                   NaN   \n",
      "21015   Love my new kindle.              NaN                   NaN   \n",
      "21016     Good eBook reader              NaN                   NaN   \n",
      "21017  Great first e-reader              NaN                   NaN   \n",
      "21018       Love the voyage              NaN                   NaN   \n",
      "\n",
      "       reviews.username  \n",
      "21014            Smokey  \n",
      "21015        Silvacreek  \n",
      "21016              MMmQ  \n",
      "21017         lilypad23  \n",
      "21018            Laurde  \n",
      "\n",
      "[5 rows x 21 columns]\n",
      "Index(['index', 'id', 'name', 'asins', 'brand', 'categories', 'keys',\n",
      "       'manufacturer', 'reviews.date', 'reviews.dateAdded', 'reviews.dateSeen',\n",
      "       'reviews.didPurchase', 'reviews.doRecommend', 'reviews.id',\n",
      "       'reviews.numHelpful', 'reviews.rating', 'reviews.sourceURLs',\n",
      "       'reviews.text', 'reviews.title', 'reviews.userCity',\n",
      "       'reviews.userProvince', 'reviews.username'],\n",
      "      dtype='object')\n",
      "count    3206.000000\n",
      "mean        4.753275\n",
      "std         0.566303\n",
      "min         1.000000\n",
      "25%         5.000000\n",
      "50%         5.000000\n",
      "75%         5.000000\n",
      "max         5.000000\n",
      "Name: reviews.rating, dtype: float64\n",
      "22\n",
      "18\n",
      "5.0    2564\n",
      "4.0     545\n",
      "3.0      60\n",
      "2.0      22\n",
      "1.0      15\n",
      "Name: Rating, dtype: int64\n"
     ]
    },
    {
     "data": {
      "text/plain": [
       "5.0    2564\n",
       "4.0     545\n",
       "3.0      60\n",
       "2.0      22\n",
       "1.0      15\n",
       "Name: Rating, dtype: int64"
      ]
     },
     "execution_count": 15,
     "metadata": {},
     "output_type": "execute_result"
    }
   ],
   "source": [
    "frames = [df3_paperwhite_4gb,df5_paperwhite]\n",
    "df4_voyage.to_csv('Voyage.csv')\n",
    "kp = pd.concat(frames)\n",
    "print(kp.head(5))\n",
    "print(kp.tail(5))\n",
    "kp = kp.reset_index()\n",
    "print(kp.columns)\n",
    "print(kp['reviews.rating'].describe())\n",
    "kp.columns = ['Index','ID','Name','ASINS','Brand','Categories','Keys','Manufacturer','ReviewDate','ReviewDateAdded','ReviewDateSeen','PurchasedOnReview','RecommendStatus','ReviewID','ReviewHelpful','Rating','SourceURL','Comments','Title','UserCity','UserProvince','Username']\n",
    "kp.columns\n",
    "kp.head(5)\n",
    "print(kp.columns.nunique())\n",
    "kp = kp.drop(['ReviewID' , 'UserCity' , 'UserProvince','PurchasedOnReview'],axis = 1)\n",
    "print(kp.columns.nunique())\n",
    "print(kp.Rating.value_counts())\n",
    "kp.Rating.value_counts()"
   ]
  },
  {
   "cell_type": "code",
   "execution_count": null,
   "metadata": {},
   "outputs": [],
   "source": [
    "#Analysing Data"
   ]
  },
  {
   "cell_type": "code",
   "execution_count": 16,
   "metadata": {},
   "outputs": [
    {
     "data": {
      "image/png": "[encoded data removed]",
      "text/plain": [
       "<Figure size 432x288 with 2 Axes>"
      ]
     },
     "metadata": {
      "needs_background": "light"
     },
     "output_type": "display_data"
    },
    {
     "name": "stdout",
     "output_type": "stream",
     "text": [
      "<class 'pandas.core.frame.DataFrame'>\n",
      "RangeIndex: 3206 entries, 0 to 3205\n",
      "Data columns (total 18 columns):\n",
      " #   Column           Non-Null Count  Dtype  \n",
      "---  ------           --------------  -----  \n",
      " 0   Index            3206 non-null   int64  \n",
      " 1   ID               3206 non-null   object \n",
      " 2   Name             3206 non-null   object \n",
      " 3   ASINS            3206 non-null   object \n",
      " 4   Brand            3206 non-null   object \n",
      " 5   Categories       3206 non-null   object \n",
      " 6   Keys             3206 non-null   object \n",
      " 7   Manufacturer     3206 non-null   object \n",
      " 8   ReviewDate       3206 non-null   object \n",
      " 9   ReviewDateAdded  3176 non-null   object \n",
      " 10  ReviewDateSeen   3206 non-null   object \n",
      " 11  RecommendStatus  3206 non-null   object \n",
      " 12  ReviewHelpful    3206 non-null   float64\n",
      " 13  Rating           3206 non-null   float64\n",
      " 14  SourceURL        3206 non-null   object \n",
      " 15  Comments         3206 non-null   object \n",
      " 16  Title            3206 non-null   object \n",
      " 17  Username         3206 non-null   object \n",
      "dtypes: float64(2), int64(1), object(15)\n",
      "memory usage: 263.1+ KB\n",
      "None\n"
     ]
    }
   ],
   "source": [
    "kp.RecommendStatus.nunique()\n",
    "import matplotlib.pyplot as plt\n",
    "kp.hist(column = 'Rating', by = 'RecommendStatus', color = 'Red')\n",
    "plt.show()\n",
    "print(kp.info())"
   ]
  },
  {
   "cell_type": "code",
   "execution_count": 17,
   "metadata": {},
   "outputs": [
    {
     "name": "stdout",
     "output_type": "stream",
     "text": [
      "   Index                    ID                      Name       ASINS   Brand  \\\n",
      "0  17216  AVqVGWLKnnc1JgDc3jF1  Amazon Kindle Paperwhite  B018Y23MNM  Amazon   \n",
      "1  17217  AVqVGWLKnnc1JgDc3jF1  Amazon Kindle Paperwhite  B018Y23MNM  Amazon   \n",
      "2  17218  AVqVGWLKnnc1JgDc3jF1  Amazon Kindle Paperwhite  B018Y23MNM  Amazon   \n",
      "3  17219  AVqVGWLKnnc1JgDc3jF1  Amazon Kindle Paperwhite  B018Y23MNM  Amazon   \n",
      "4  17220  AVqVGWLKnnc1JgDc3jF1  Amazon Kindle Paperwhite  B018Y23MNM  Amazon   \n",
      "\n",
      "  Categories                                               Keys Manufacturer  \\\n",
      "0    Tablets  firekidseditiontablet7displaywifi16gbgreenkidp...       Amazon   \n",
      "1    Tablets  firekidseditiontablet7displaywifi16gbgreenkidp...       Amazon   \n",
      "2    Tablets  firekidseditiontablet7displaywifi16gbgreenkidp...       Amazon   \n",
      "3    Tablets  firekidseditiontablet7displaywifi16gbgreenkidp...       Amazon   \n",
      "4    Tablets  firekidseditiontablet7displaywifi16gbgreenkidp...       Amazon   \n",
      "\n",
      "                 ReviewDate       ReviewDateAdded  \\\n",
      "0  2017-02-05T00:00:00.000Z  2017-06-21T07:38:39Z   \n",
      "1  2017-02-05T00:00:00.000Z  2017-06-21T07:38:39Z   \n",
      "2  2017-02-05T00:00:00.000Z  2017-06-21T07:38:39Z   \n",
      "3  2017-02-04T00:00:00.000Z  2017-06-21T07:38:39Z   \n",
      "4  2017-02-04T00:00:00.000Z  2017-06-21T07:38:40Z   \n",
      "\n",
      "                                      ReviewDateSeen RecommendStatus  \\\n",
      "0  2017-06-04T02:18:03.660Z,2017-06-03T18:42:15.341Z            True   \n",
      "1  2017-06-04T02:18:03.660Z,2017-06-03T18:42:15.341Z            True   \n",
      "2  2017-06-04T02:18:03.660Z,2017-06-03T18:42:15.341Z            True   \n",
      "3  2017-06-04T02:18:03.660Z,2017-06-03T18:42:15.341Z            True   \n",
      "4  2017-06-04T02:18:05.131Z,2017-06-03T18:42:16.147Z           False   \n",
      "\n",
      "   ReviewHelpful  Rating                                          SourceURL  \\\n",
      "0            0.0     5.0  http://reviews.bestbuy.com/3545/5026300/review...   \n",
      "1            0.0     5.0  http://reviews.bestbuy.com/3545/5026300/review...   \n",
      "2            0.0     3.0  http://reviews.bestbuy.com/3545/5026300/review...   \n",
      "3            0.0     3.0  http://reviews.bestbuy.com/3545/5026300/review...   \n",
      "4            0.0     1.0  http://reviews.bestbuy.com/3545/5026300/review...   \n",
      "\n",
      "                                            Comments                Title  \\\n",
      "0  Was a gift for our 8 year old daughter. Great ...       Great for kids   \n",
      "1  my grandkids love it. This is the 3 one we bou...         kids love it   \n",
      "2  Great case ok tablet no Android play store. We...  Tablet not for kids   \n",
      "3  Grandson became board with what it offers. Plu...  Good for young kids   \n",
      "4  This product wouldn't turn on nor charge and t...       Product Issues   \n",
      "\n",
      "      Username  \n",
      "0        Bubba  \n",
      "1        skeet  \n",
      "2    Kidsphone  \n",
      "3      Shannon  \n",
      "4  FitnessBuff  \n",
      "0.0      2861\n",
      "1.0       261\n",
      "2.0        38\n",
      "3.0        17\n",
      "4.0        10\n",
      "5.0         4\n",
      "6.0         2\n",
      "34.0        2\n",
      "26.0        1\n",
      "11.0        1\n",
      "103.0       1\n",
      "43.0        1\n",
      "18.0        1\n",
      "12.0        1\n",
      "7.0         1\n",
      "8.0         1\n",
      "24.0        1\n",
      "17.0        1\n",
      "32.0        1\n",
      "Name: ReviewHelpful, dtype: int64\n"
     ]
    }
   ],
   "source": [
    "kp['Categories'] = 'Tablets'\n",
    "kp['Name'] = 'Amazon Kindle Paperwhite'\n",
    "print(kp.head(5))\n",
    "print(kp.ReviewHelpful.value_counts())"
   ]
  },
  {
   "cell_type": "code",
   "execution_count": 18,
   "metadata": {},
   "outputs": [
    {
     "data": {
      "text/html": [
       "<div>\n",
       "<style scoped>\n",
       "    .dataframe tbody tr th:only-of-type {\n",
       "        vertical-align: middle;\n",
       "    }\n",
       "\n",
       "    .dataframe tbody tr th {\n",
       "        vertical-align: top;\n",
       "    }\n",
       "\n",
       "    .dataframe thead th {\n",
       "        text-align: right;\n",
       "    }\n",
       "</style>\n",
       "<table border=\"1\" class=\"dataframe\">\n",
       "  <thead>\n",
       "    <tr style=\"text-align: right;\">\n",
       "      <th></th>\n",
       "      <th>Comments</th>\n",
       "    </tr>\n",
       "  </thead>\n",
       "  <tbody>\n",
       "    <tr>\n",
       "      <th>791</th>\n",
       "      <td>This is perfect for my needs. I love reading, ...</td>\n",
       "    </tr>\n",
       "    <tr>\n",
       "      <th>1927</th>\n",
       "      <td>New exactly what I wanted dot dot dot and I al...</td>\n",
       "    </tr>\n",
       "    <tr>\n",
       "      <th>2032</th>\n",
       "      <td>I have an iPad pro and I read in a kindle. The...</td>\n",
       "    </tr>\n",
       "    <tr>\n",
       "      <th>2212</th>\n",
       "      <td>Absolutely love it. So lightweight and conveni...</td>\n",
       "    </tr>\n",
       "    <tr>\n",
       "      <th>2253</th>\n",
       "      <td>This device is a classic reader for people， al...</td>\n",
       "    </tr>\n",
       "    <tr>\n",
       "      <th>2332</th>\n",
       "      <td>Very easy to travel with. Easy to see in dark/...</td>\n",
       "    </tr>\n",
       "    <tr>\n",
       "      <th>2479</th>\n",
       "      <td>This is a good item for reading books. It is e...</td>\n",
       "    </tr>\n",
       "    <tr>\n",
       "      <th>2640</th>\n",
       "      <td>Nice and easy to carry with you. The battery's...</td>\n",
       "    </tr>\n",
       "    <tr>\n",
       "      <th>2994</th>\n",
       "      <td>It's a great product, but giving the price, yo...</td>\n",
       "    </tr>\n",
       "    <tr>\n",
       "      <th>2999</th>\n",
       "      <td>It's doing a great job .. just go for it witho...</td>\n",
       "    </tr>\n",
       "  </tbody>\n",
       "</table>\n",
       "</div>"
      ],
      "text/plain": [
       "                                               Comments\n",
       "791   This is perfect for my needs. I love reading, ...\n",
       "1927  New exactly what I wanted dot dot dot and I al...\n",
       "2032  I have an iPad pro and I read in a kindle. The...\n",
       "2212  Absolutely love it. So lightweight and conveni...\n",
       "2253  This device is a classic reader for people， al...\n",
       "2332  Very easy to travel with. Easy to see in dark/...\n",
       "2479  This is a good item for reading books. It is e...\n",
       "2640  Nice and easy to carry with you. The battery's...\n",
       "2994  It's a great product, but giving the price, yo...\n",
       "2999  It's doing a great job .. just go for it witho..."
      ]
     },
     "execution_count": 18,
     "metadata": {},
     "output_type": "execute_result"
    }
   ],
   "source": [
    "pd.DataFrame(kp[(kp.Rating==5)&(kp.RecommendStatus==False)]['Comments'])"
   ]
  },
  {
   "cell_type": "code",
   "execution_count": 19,
   "metadata": {},
   "outputs": [
    {
     "name": "stdout",
     "output_type": "stream",
     "text": [
      "2890\n",
      "(3206, 18)\n"
     ]
    },
    {
     "data": {
      "text/plain": [
       "188"
      ]
     },
     "execution_count": 19,
     "metadata": {},
     "output_type": "execute_result"
    }
   ],
   "source": [
    "print(kp.Username.nunique())\n",
    "print(kp.shape)\n",
    "sum(kp['Username'].value_counts()>1)"
   ]
  },
  {
   "cell_type": "code",
   "execution_count": 20,
   "metadata": {},
   "outputs": [
    {
     "data": {
      "text/plain": [
       "2890"
      ]
     },
     "execution_count": 20,
     "metadata": {},
     "output_type": "execute_result"
    }
   ],
   "source": [
    "len(kp['Username'].value_counts()>1)"
   ]
  },
  {
   "cell_type": "code",
   "execution_count": 21,
   "metadata": {},
   "outputs": [
    {
     "name": "stdout",
     "output_type": "stream",
     "text": [
      "17\n",
      "   index  Index                    ID                      Name       ASINS  \\\n",
      "0      0  17216  AVqVGWLKnnc1JgDc3jF1  Amazon Kindle Paperwhite  B018Y23MNM   \n",
      "1      1  17217  AVqVGWLKnnc1JgDc3jF1  Amazon Kindle Paperwhite  B018Y23MNM   \n",
      "\n",
      "    Brand Categories Manufacturer                ReviewDate  \\\n",
      "0  Amazon    Tablets       Amazon  2017-02-05T00:00:00.000Z   \n",
      "1  Amazon    Tablets       Amazon  2017-02-05T00:00:00.000Z   \n",
      "\n",
      "        ReviewDateAdded                                     ReviewDateSeen  \\\n",
      "0  2017-06-21T07:38:39Z  2017-06-04T02:18:03.660Z,2017-06-03T18:42:15.341Z   \n",
      "1  2017-06-21T07:38:39Z  2017-06-04T02:18:03.660Z,2017-06-03T18:42:15.341Z   \n",
      "\n",
      "  RecommendStatus  ReviewHelpful  Rating  \\\n",
      "0            True            0.0     5.0   \n",
      "1            True            0.0     5.0   \n",
      "\n",
      "                                           SourceURL  \\\n",
      "0  http://reviews.bestbuy.com/3545/5026300/review...   \n",
      "1  http://reviews.bestbuy.com/3545/5026300/review...   \n",
      "\n",
      "                                            Comments           Title Username  \n",
      "0  Was a gift for our 8 year old daughter. Great ...  Great for kids    Bubba  \n",
      "1  my grandkids love it. This is the 3 one we bou...    kids love it    skeet  \n"
     ]
    }
   ],
   "source": [
    "kp.head(2)\n",
    "kp = kp.drop('Keys',axis = 1)\n",
    "print(kp.columns.nunique())\n",
    "kp =kp.reset_index()\n",
    "print(kp.head(2))"
   ]
  },
  {
   "cell_type": "code",
   "execution_count": null,
   "metadata": {},
   "outputs": [],
   "source": [
    "#Transforming Date Time"
   ]
  },
  {
   "cell_type": "code",
   "execution_count": 22,
   "metadata": {},
   "outputs": [],
   "source": [
    "kp.ReviewDate = pd.to_datetime(kp['ReviewDate'], dayfirst= True)\n",
    "kp.ReviewDateAdded =pd.to_datetime(kp.ReviewDateAdded , dayfirst= True)\n",
    "#kp.ReviewDateSeen = pd.to_datetime(kp.ReviewDateSeen, dayfirst = True)"
   ]
  },
  {
   "cell_type": "code",
   "execution_count": 23,
   "metadata": {},
   "outputs": [
    {
     "name": "stdout",
     "output_type": "stream",
     "text": [
      "   index  Index                    ID                      Name       ASINS  \\\n",
      "0      0  17216  AVqVGWLKnnc1JgDc3jF1  Amazon Kindle Paperwhite  B018Y23MNM   \n",
      "1      1  17217  AVqVGWLKnnc1JgDc3jF1  Amazon Kindle Paperwhite  B018Y23MNM   \n",
      "2      2  17218  AVqVGWLKnnc1JgDc3jF1  Amazon Kindle Paperwhite  B018Y23MNM   \n",
      "3      3  17219  AVqVGWLKnnc1JgDc3jF1  Amazon Kindle Paperwhite  B018Y23MNM   \n",
      "\n",
      "    Brand Categories Manufacturer                ReviewDate  \\\n",
      "0  Amazon    Tablets       Amazon 2017-02-05 00:00:00+00:00   \n",
      "1  Amazon    Tablets       Amazon 2017-02-05 00:00:00+00:00   \n",
      "2  Amazon    Tablets       Amazon 2017-02-05 00:00:00+00:00   \n",
      "3  Amazon    Tablets       Amazon 2017-02-04 00:00:00+00:00   \n",
      "\n",
      "            ReviewDateAdded                   ReviewDateSeen RecommendStatus  \\\n",
      "0 2017-06-21 07:38:39+00:00 2017-06-04 02:18:03.660000+00:00            True   \n",
      "1 2017-06-21 07:38:39+00:00 2017-06-04 02:18:03.660000+00:00            True   \n",
      "2 2017-06-21 07:38:39+00:00 2017-06-04 02:18:03.660000+00:00            True   \n",
      "3 2017-06-21 07:38:39+00:00 2017-06-04 02:18:03.660000+00:00            True   \n",
      "\n",
      "   ReviewHelpful  Rating                                          SourceURL  \\\n",
      "0            0.0     5.0  http://reviews.bestbuy.com/3545/5026300/review...   \n",
      "1            0.0     5.0  http://reviews.bestbuy.com/3545/5026300/review...   \n",
      "2            0.0     3.0  http://reviews.bestbuy.com/3545/5026300/review...   \n",
      "3            0.0     3.0  http://reviews.bestbuy.com/3545/5026300/review...   \n",
      "\n",
      "                                            Comments                Title  \\\n",
      "0  Was a gift for our 8 year old daughter. Great ...       Great for kids   \n",
      "1  my grandkids love it. This is the 3 one we bou...         kids love it   \n",
      "2  Great case ok tablet no Android play store. We...  Tablet not for kids   \n",
      "3  Grandson became board with what it offers. Plu...  Good for young kids   \n",
      "\n",
      "    Username  \n",
      "0      Bubba  \n",
      "1      skeet  \n",
      "2  Kidsphone  \n",
      "3    Shannon  \n"
     ]
    }
   ],
   "source": [
    "kp['ReviewDateSeen'] = kp['ReviewDateSeen'].str.split(',',expand = True).apply(lambda x:x.str.strip())\n",
    "kp.ReviewDateSeen = pd.to_datetime(kp.ReviewDateSeen,dayfirst= True)   \n",
    "print(kp.head(4))"
   ]
  },
  {
   "cell_type": "code",
   "execution_count": null,
   "metadata": {},
   "outputs": [],
   "source": [
    "#Likert Scale Analysis"
   ]
  },
  {
   "cell_type": "code",
   "execution_count": 24,
   "metadata": {},
   "outputs": [
    {
     "name": "stdout",
     "output_type": "stream",
     "text": [
      "76.94946974422957\n"
     ]
    }
   ],
   "source": [
    "import numpy as np\n",
    "promoters = sum(kp.Rating==5)\n",
    "passive = sum(kp.Rating == 4)\n",
    "detractors = sum(np.logical_and(kp.Rating >= 1, kp.Rating <=3))\n",
    "respondents = promoters+passive+detractors\n",
    "NPS_P = ((promoters - detractors)/respondents )*100\n",
    "print(NPS_P)"
   ]
  },
  {
   "cell_type": "code",
   "execution_count": 25,
   "metadata": {},
   "outputs": [
    {
     "name": "stdout",
     "output_type": "stream",
     "text": [
      "      index  Index                    ID                      Name  \\\n",
      "3204   3204  21017  AVphPmHuilAPnD_x3E5h  Amazon Kindle Paperwhite   \n",
      "3205   3205  21018  AVphPmHuilAPnD_x3E5h  Amazon Kindle Paperwhite   \n",
      "\n",
      "           ASINS   Brand Categories Manufacturer                ReviewDate  \\\n",
      "3204  B00IOY8XWQ  Amazon    Tablets       Amazon 2016-05-21 00:00:00+00:00   \n",
      "3205  B00IOY8XWQ  Amazon    Tablets       Amazon 2016-05-20 00:00:00+00:00   \n",
      "\n",
      "     ReviewDateAdded            ReviewDateSeen RecommendStatus  ReviewHelpful  \\\n",
      "3204             NaT 2017-08-31 00:00:00+00:00            True            0.0   \n",
      "3205             NaT 2017-08-31 00:00:00+00:00            True            1.0   \n",
      "\n",
      "      Rating                                          SourceURL  \\\n",
      "3204     4.0  http://reviews.bestbuy.com/3545/9302088/review...   \n",
      "3205     5.0  http://reviews.bestbuy.com/3545/9302088/review...   \n",
      "\n",
      "                                               Comments                 Title  \\\n",
      "3204  This is the first e-reader I've gotten and I L...  Great first e-reader   \n",
      "3205  I previously had a first edition paper white a...       Love the voyage   \n",
      "\n",
      "       Username  \n",
      "3204  lilypad23  \n",
      "3205     Laurde  \n"
     ]
    }
   ],
   "source": [
    "print(kp.tail(2))"
   ]
  },
  {
   "cell_type": "code",
   "execution_count": 26,
   "metadata": {},
   "outputs": [
    {
     "data": {
      "text/plain": [
       "<matplotlib.axes._subplots.AxesSubplot at 0x1448c028>"
      ]
     },
     "execution_count": 26,
     "metadata": {},
     "output_type": "execute_result"
    },
    {
     "data": {
      "image/png": "[encoded data removed]",
      "text/plain": [
       "<Figure size 720x720 with 1 Axes>"
      ]
     },
     "metadata": {
      "needs_background": "light"
     },
     "output_type": "display_data"
    }
   ],
   "source": [
    "kp.plot(x = 'ReviewDate',y = 'Rating', kind = 'line',  figsize=(10,10))"
   ]
  },
  {
   "cell_type": "code",
   "execution_count": 27,
   "metadata": {},
   "outputs": [
    {
     "name": "stdout",
     "output_type": "stream",
     "text": [
      "                    ReviewDate  Rating\n",
      "3201 2016-05-24 00:00:00+00:00     4.0\n",
      "3202 2016-05-23 00:00:00+00:00     5.0\n",
      "3203 2016-05-22 00:00:00+00:00     4.0\n",
      "3204 2016-05-21 00:00:00+00:00     4.0\n",
      "3205 2016-05-20 00:00:00+00:00     5.0\n",
      "(3206, 2)\n"
     ]
    }
   ],
   "source": [
    "review_date = kp.ReviewDate\n",
    "rating = kp.Rating\n",
    "df_dr = pd.concat([review_date,rating],axis = 1)\n",
    "print(df_dr.tail(5))\n",
    "print(df_dr.shape)"
   ]
  },
  {
   "cell_type": "code",
   "execution_count": 28,
   "metadata": {},
   "outputs": [
    {
     "name": "stdout",
     "output_type": "stream",
     "text": [
      "Rating\n",
      "1.0     1\n",
      "2.0     0\n",
      "3.0     1\n",
      "4.0     5\n",
      "5.0    11\n",
      "Name: 2017-02-04 00:00:00+00:00, dtype: int64\n"
     ]
    }
   ],
   "source": [
    "df_dr = df_dr.groupby(['ReviewDate','Rating']).size().unstack(fill_value = 0)\n",
    "print(df_dr.loc['2017-02-04'])"
   ]
  },
  {
   "cell_type": "code",
   "execution_count": 29,
   "metadata": {},
   "outputs": [
    {
     "name": "stdout",
     "output_type": "stream",
     "text": [
      "Rating                     1.0  2.0  3.0  4.0  5.0\n",
      "ReviewDate                                        \n",
      "2015-07-03 00:00:00+00:00    0    0    0    0   10\n",
      "2015-07-04 00:00:00+00:00    0    0    0    0    1\n",
      "2015-07-05 00:00:00+00:00    0    0    0    0    1\n",
      "2015-07-06 00:00:00+00:00    0    0    0    0    2\n",
      "2015-07-08 00:00:00+00:00    0    0    0    1    3\n"
     ]
    }
   ],
   "source": [
    "print(df_dr.head(5))\n"
   ]
  },
  {
   "cell_type": "code",
   "execution_count": 30,
   "metadata": {},
   "outputs": [
    {
     "data": {
      "text/html": [
       "<div>\n",
       "<style scoped>\n",
       "    .dataframe tbody tr th:only-of-type {\n",
       "        vertical-align: middle;\n",
       "    }\n",
       "\n",
       "    .dataframe tbody tr th {\n",
       "        vertical-align: top;\n",
       "    }\n",
       "\n",
       "    .dataframe thead th {\n",
       "        text-align: right;\n",
       "    }\n",
       "</style>\n",
       "<table border=\"1\" class=\"dataframe\">\n",
       "  <thead>\n",
       "    <tr style=\"text-align: right;\">\n",
       "      <th></th>\n",
       "      <th>A</th>\n",
       "      <th>B</th>\n",
       "      <th>C</th>\n",
       "      <th>Passive</th>\n",
       "      <th>Promoters</th>\n",
       "      <th>Detractors</th>\n",
       "    </tr>\n",
       "    <tr>\n",
       "      <th>ReviewDate</th>\n",
       "      <th></th>\n",
       "      <th></th>\n",
       "      <th></th>\n",
       "      <th></th>\n",
       "      <th></th>\n",
       "      <th></th>\n",
       "    </tr>\n",
       "  </thead>\n",
       "  <tbody>\n",
       "    <tr>\n",
       "      <th>2015-07-03 00:00:00+00:00</th>\n",
       "      <td>0</td>\n",
       "      <td>0</td>\n",
       "      <td>0</td>\n",
       "      <td>0</td>\n",
       "      <td>10</td>\n",
       "      <td>0</td>\n",
       "    </tr>\n",
       "    <tr>\n",
       "      <th>2015-07-04 00:00:00+00:00</th>\n",
       "      <td>0</td>\n",
       "      <td>0</td>\n",
       "      <td>0</td>\n",
       "      <td>0</td>\n",
       "      <td>1</td>\n",
       "      <td>0</td>\n",
       "    </tr>\n",
       "    <tr>\n",
       "      <th>2015-07-05 00:00:00+00:00</th>\n",
       "      <td>0</td>\n",
       "      <td>0</td>\n",
       "      <td>0</td>\n",
       "      <td>0</td>\n",
       "      <td>1</td>\n",
       "      <td>0</td>\n",
       "    </tr>\n",
       "    <tr>\n",
       "      <th>2015-07-06 00:00:00+00:00</th>\n",
       "      <td>0</td>\n",
       "      <td>0</td>\n",
       "      <td>0</td>\n",
       "      <td>0</td>\n",
       "      <td>2</td>\n",
       "      <td>0</td>\n",
       "    </tr>\n",
       "    <tr>\n",
       "      <th>2015-07-08 00:00:00+00:00</th>\n",
       "      <td>0</td>\n",
       "      <td>0</td>\n",
       "      <td>0</td>\n",
       "      <td>1</td>\n",
       "      <td>3</td>\n",
       "      <td>0</td>\n",
       "    </tr>\n",
       "  </tbody>\n",
       "</table>\n",
       "</div>"
      ],
      "text/plain": [
       "                           A  B  C  Passive  Promoters  Detractors\n",
       "ReviewDate                                                        \n",
       "2015-07-03 00:00:00+00:00  0  0  0        0         10           0\n",
       "2015-07-04 00:00:00+00:00  0  0  0        0          1           0\n",
       "2015-07-05 00:00:00+00:00  0  0  0        0          1           0\n",
       "2015-07-06 00:00:00+00:00  0  0  0        0          2           0\n",
       "2015-07-08 00:00:00+00:00  0  0  0        1          3           0"
      ]
     },
     "execution_count": 30,
     "metadata": {},
     "output_type": "execute_result"
    }
   ],
   "source": [
    "df_dr.columns = ['A','B','C','Passive','Promoters']\n",
    "df_dr['Detractors'] = df_dr['A'] + df_dr['B'] + df_dr['C']\n",
    "df_dr.head(5)"
   ]
  },
  {
   "cell_type": "code",
   "execution_count": 31,
   "metadata": {},
   "outputs": [
    {
     "name": "stdout",
     "output_type": "stream",
     "text": [
      "                           Passive  Promoters  Detractors\n",
      "ReviewDate                                               \n",
      "2015-07-03 00:00:00+00:00        0         10           0\n",
      "2015-07-04 00:00:00+00:00        0          1           0\n",
      "2015-07-05 00:00:00+00:00        0          1           0\n",
      "2015-07-06 00:00:00+00:00        0          2           0\n",
      "2015-07-08 00:00:00+00:00        1          3           0\n"
     ]
    }
   ],
   "source": [
    "df_dr = df_dr.drop(labels = ['A','B','C'],axis = 1)\n",
    "print(df_dr.head(5))"
   ]
  },
  {
   "cell_type": "code",
   "execution_count": 32,
   "metadata": {},
   "outputs": [
    {
     "name": "stdout",
     "output_type": "stream",
     "text": [
      "                           Passive  Promoters  Detractors    NPS\n",
      "ReviewDate                                                      \n",
      "2015-07-03 00:00:00+00:00        0         10           0  100.0\n",
      "2015-07-04 00:00:00+00:00        0          1           0  100.0\n",
      "2015-07-05 00:00:00+00:00        0          1           0  100.0\n",
      "2015-07-06 00:00:00+00:00        0          2           0  100.0\n",
      "2015-07-08 00:00:00+00:00        1          3           0   75.0\n"
     ]
    }
   ],
   "source": [
    "df_dr['NPS'] = (df_dr['Promoters'] - df_dr['Detractors']) * 100 / (df_dr['Passive'] + df_dr['Promoters'] + df_dr['Detractors'])\n",
    "print(df_dr.head(5))"
   ]
  },
  {
   "cell_type": "code",
   "execution_count": 33,
   "metadata": {},
   "outputs": [
    {
     "data": {
      "text/plain": [
       "<matplotlib.axes._subplots.AxesSubplot at 0x1453ad90>"
      ]
     },
     "execution_count": 33,
     "metadata": {},
     "output_type": "execute_result"
    },
    {
     "data": {
      "image/png": "[encoded data removed]",
      "text/plain": [
       "<Figure size 720x720 with 1 Axes>"
      ]
     },
     "metadata": {
      "needs_background": "light"
     },
     "output_type": "display_data"
    }
   ],
   "source": [
    "df_dr = df_dr.reset_index()\n",
    "df_dr.plot( x = 'ReviewDate', y = 'NPS',kind = 'line', figsize=(10,10))"
   ]
  },
  {
   "cell_type": "code",
   "execution_count": 34,
   "metadata": {},
   "outputs": [
    {
     "data": {
      "text/plain": [
       "(628, 5)"
      ]
     },
     "execution_count": 34,
     "metadata": {},
     "output_type": "execute_result"
    }
   ],
   "source": [
    "df_dr.shape\n"
   ]
  },
  {
   "cell_type": "code",
   "execution_count": null,
   "metadata": {},
   "outputs": [],
   "source": [
    "#Sentiment Analysis - NLTK to find Compound Score"
   ]
  },
  {
   "cell_type": "code",
   "execution_count": 35,
   "metadata": {},
   "outputs": [
    {
     "data": {
      "text/html": [
       "<div>\n",
       "<style scoped>\n",
       "    .dataframe tbody tr th:only-of-type {\n",
       "        vertical-align: middle;\n",
       "    }\n",
       "\n",
       "    .dataframe tbody tr th {\n",
       "        vertical-align: top;\n",
       "    }\n",
       "\n",
       "    .dataframe thead th {\n",
       "        text-align: right;\n",
       "    }\n",
       "</style>\n",
       "<table border=\"1\" class=\"dataframe\">\n",
       "  <thead>\n",
       "    <tr style=\"text-align: right;\">\n",
       "      <th></th>\n",
       "      <th>index</th>\n",
       "      <th>Index</th>\n",
       "      <th>ID</th>\n",
       "      <th>Name</th>\n",
       "      <th>ASINS</th>\n",
       "      <th>Brand</th>\n",
       "      <th>Categories</th>\n",
       "      <th>Manufacturer</th>\n",
       "      <th>ReviewDate</th>\n",
       "      <th>ReviewDateAdded</th>\n",
       "      <th>ReviewDateSeen</th>\n",
       "      <th>RecommendStatus</th>\n",
       "      <th>ReviewHelpful</th>\n",
       "      <th>Rating</th>\n",
       "      <th>SourceURL</th>\n",
       "      <th>Comments</th>\n",
       "      <th>Title</th>\n",
       "      <th>Username</th>\n",
       "    </tr>\n",
       "  </thead>\n",
       "  <tbody>\n",
       "    <tr>\n",
       "      <th>0</th>\n",
       "      <td>0</td>\n",
       "      <td>17216</td>\n",
       "      <td>AVqVGWLKnnc1JgDc3jF1</td>\n",
       "      <td>Amazon Kindle Paperwhite</td>\n",
       "      <td>B018Y23MNM</td>\n",
       "      <td>Amazon</td>\n",
       "      <td>Tablets</td>\n",
       "      <td>Amazon</td>\n",
       "      <td>2017-02-05 00:00:00+00:00</td>\n",
       "      <td>2017-06-21 07:38:39+00:00</td>\n",
       "      <td>2017-06-04 02:18:03.660000+00:00</td>\n",
       "      <td>True</td>\n",
       "      <td>0.0</td>\n",
       "      <td>5.0</td>\n",
       "      <td>http://reviews.bestbuy.com/3545/5026300/review...</td>\n",
       "      <td>Was a gift for our 8 year old daughter. Great ...</td>\n",
       "      <td>Great for kids</td>\n",
       "      <td>Bubba</td>\n",
       "    </tr>\n",
       "    <tr>\n",
       "      <th>1</th>\n",
       "      <td>1</td>\n",
       "      <td>17217</td>\n",
       "      <td>AVqVGWLKnnc1JgDc3jF1</td>\n",
       "      <td>Amazon Kindle Paperwhite</td>\n",
       "      <td>B018Y23MNM</td>\n",
       "      <td>Amazon</td>\n",
       "      <td>Tablets</td>\n",
       "      <td>Amazon</td>\n",
       "      <td>2017-02-05 00:00:00+00:00</td>\n",
       "      <td>2017-06-21 07:38:39+00:00</td>\n",
       "      <td>2017-06-04 02:18:03.660000+00:00</td>\n",
       "      <td>True</td>\n",
       "      <td>0.0</td>\n",
       "      <td>5.0</td>\n",
       "      <td>http://reviews.bestbuy.com/3545/5026300/review...</td>\n",
       "      <td>my grandkids love it. This is the 3 one we bou...</td>\n",
       "      <td>kids love it</td>\n",
       "      <td>skeet</td>\n",
       "    </tr>\n",
       "  </tbody>\n",
       "</table>\n",
       "</div>"
      ],
      "text/plain": [
       "   index  Index                    ID                      Name       ASINS  \\\n",
       "0      0  17216  AVqVGWLKnnc1JgDc3jF1  Amazon Kindle Paperwhite  B018Y23MNM   \n",
       "1      1  17217  AVqVGWLKnnc1JgDc3jF1  Amazon Kindle Paperwhite  B018Y23MNM   \n",
       "\n",
       "    Brand Categories Manufacturer                ReviewDate  \\\n",
       "0  Amazon    Tablets       Amazon 2017-02-05 00:00:00+00:00   \n",
       "1  Amazon    Tablets       Amazon 2017-02-05 00:00:00+00:00   \n",
       "\n",
       "            ReviewDateAdded                   ReviewDateSeen RecommendStatus  \\\n",
       "0 2017-06-21 07:38:39+00:00 2017-06-04 02:18:03.660000+00:00            True   \n",
       "1 2017-06-21 07:38:39+00:00 2017-06-04 02:18:03.660000+00:00            True   \n",
       "\n",
       "   ReviewHelpful  Rating                                          SourceURL  \\\n",
       "0            0.0     5.0  http://reviews.bestbuy.com/3545/5026300/review...   \n",
       "1            0.0     5.0  http://reviews.bestbuy.com/3545/5026300/review...   \n",
       "\n",
       "                                            Comments           Title Username  \n",
       "0  Was a gift for our 8 year old daughter. Great ...  Great for kids    Bubba  \n",
       "1  my grandkids love it. This is the 3 one we bou...    kids love it    skeet  "
      ]
     },
     "execution_count": 35,
     "metadata": {},
     "output_type": "execute_result"
    }
   ],
   "source": [
    "kp.Name.nunique()\n",
    "kp.head(2)"
   ]
  },
  {
   "cell_type": "code",
   "execution_count": 36,
   "metadata": {},
   "outputs": [
    {
     "data": {
      "text/html": [
       "<div>\n",
       "<style scoped>\n",
       "    .dataframe tbody tr th:only-of-type {\n",
       "        vertical-align: middle;\n",
       "    }\n",
       "\n",
       "    .dataframe tbody tr th {\n",
       "        vertical-align: top;\n",
       "    }\n",
       "\n",
       "    .dataframe thead th {\n",
       "        text-align: right;\n",
       "    }\n",
       "</style>\n",
       "<table border=\"1\" class=\"dataframe\">\n",
       "  <thead>\n",
       "    <tr style=\"text-align: right;\">\n",
       "      <th></th>\n",
       "      <th>level_0</th>\n",
       "      <th>index</th>\n",
       "      <th>ReviewDate</th>\n",
       "      <th>RecommendStatus</th>\n",
       "      <th>ReviewHelpful</th>\n",
       "      <th>Rating</th>\n",
       "      <th>Comments</th>\n",
       "      <th>Title</th>\n",
       "      <th>Username</th>\n",
       "    </tr>\n",
       "  </thead>\n",
       "  <tbody>\n",
       "    <tr>\n",
       "      <th>0</th>\n",
       "      <td>0</td>\n",
       "      <td>0</td>\n",
       "      <td>2017-02-05 00:00:00+00:00</td>\n",
       "      <td>True</td>\n",
       "      <td>0.0</td>\n",
       "      <td>5.0</td>\n",
       "      <td>Was a gift for our 8 year old daughter. Great ...</td>\n",
       "      <td>Great for kids</td>\n",
       "      <td>Bubba</td>\n",
       "    </tr>\n",
       "    <tr>\n",
       "      <th>1</th>\n",
       "      <td>1</td>\n",
       "      <td>1</td>\n",
       "      <td>2017-02-05 00:00:00+00:00</td>\n",
       "      <td>True</td>\n",
       "      <td>0.0</td>\n",
       "      <td>5.0</td>\n",
       "      <td>my grandkids love it. This is the 3 one we bou...</td>\n",
       "      <td>kids love it</td>\n",
       "      <td>skeet</td>\n",
       "    </tr>\n",
       "    <tr>\n",
       "      <th>2</th>\n",
       "      <td>2</td>\n",
       "      <td>2</td>\n",
       "      <td>2017-02-05 00:00:00+00:00</td>\n",
       "      <td>True</td>\n",
       "      <td>0.0</td>\n",
       "      <td>3.0</td>\n",
       "      <td>Great case ok tablet no Android play store. We...</td>\n",
       "      <td>Tablet not for kids</td>\n",
       "      <td>Kidsphone</td>\n",
       "    </tr>\n",
       "    <tr>\n",
       "      <th>3</th>\n",
       "      <td>3</td>\n",
       "      <td>3</td>\n",
       "      <td>2017-02-04 00:00:00+00:00</td>\n",
       "      <td>True</td>\n",
       "      <td>0.0</td>\n",
       "      <td>3.0</td>\n",
       "      <td>Grandson became board with what it offers. Plu...</td>\n",
       "      <td>Good for young kids</td>\n",
       "      <td>Shannon</td>\n",
       "    </tr>\n",
       "    <tr>\n",
       "      <th>4</th>\n",
       "      <td>4</td>\n",
       "      <td>4</td>\n",
       "      <td>2017-02-04 00:00:00+00:00</td>\n",
       "      <td>False</td>\n",
       "      <td>0.0</td>\n",
       "      <td>1.0</td>\n",
       "      <td>This product wouldn't turn on nor charge and t...</td>\n",
       "      <td>Product Issues</td>\n",
       "      <td>FitnessBuff</td>\n",
       "    </tr>\n",
       "  </tbody>\n",
       "</table>\n",
       "</div>"
      ],
      "text/plain": [
       "   level_0  index                ReviewDate RecommendStatus  ReviewHelpful  \\\n",
       "0        0      0 2017-02-05 00:00:00+00:00            True            0.0   \n",
       "1        1      1 2017-02-05 00:00:00+00:00            True            0.0   \n",
       "2        2      2 2017-02-05 00:00:00+00:00            True            0.0   \n",
       "3        3      3 2017-02-04 00:00:00+00:00            True            0.0   \n",
       "4        4      4 2017-02-04 00:00:00+00:00           False            0.0   \n",
       "\n",
       "   Rating                                           Comments  \\\n",
       "0     5.0  Was a gift for our 8 year old daughter. Great ...   \n",
       "1     5.0  my grandkids love it. This is the 3 one we bou...   \n",
       "2     3.0  Great case ok tablet no Android play store. We...   \n",
       "3     3.0  Grandson became board with what it offers. Plu...   \n",
       "4     1.0  This product wouldn't turn on nor charge and t...   \n",
       "\n",
       "                 Title     Username  \n",
       "0       Great for kids        Bubba  \n",
       "1         kids love it        skeet  \n",
       "2  Tablet not for kids    Kidsphone  \n",
       "3  Good for young kids      Shannon  \n",
       "4       Product Issues  FitnessBuff  "
      ]
     },
     "execution_count": 36,
     "metadata": {},
     "output_type": "execute_result"
    }
   ],
   "source": [
    "data =  kp.drop(['Index','ID','Name','ASINS','Brand','Categories','Manufacturer','ReviewDateAdded','ReviewDateSeen','SourceURL'], axis = 1)\n",
    "# Cleaned Dataset Now becomes\n",
    "data = data.reset_index()\n",
    "data.head(5)"
   ]
  },
  {
   "cell_type": "code",
   "execution_count": 37,
   "metadata": {},
   "outputs": [
    {
     "data": {
      "text/plain": [
       "Index(['level_0', 'index', 'RecommendStatus', 'ReviewHelpful', 'Rating',\n",
       "       'Comments', 'Title', 'Username'],\n",
       "      dtype='object')"
      ]
     },
     "execution_count": 37,
     "metadata": {},
     "output_type": "execute_result"
    }
   ],
   "source": [
    "data = data.drop(['ReviewDate'], axis = 1)\n",
    "data.columns"
   ]
  },
  {
   "cell_type": "code",
   "execution_count": 38,
   "metadata": {},
   "outputs": [
    {
     "data": {
      "text/html": [
       "<div>\n",
       "<style scoped>\n",
       "    .dataframe tbody tr th:only-of-type {\n",
       "        vertical-align: middle;\n",
       "    }\n",
       "\n",
       "    .dataframe tbody tr th {\n",
       "        vertical-align: top;\n",
       "    }\n",
       "\n",
       "    .dataframe thead th {\n",
       "        text-align: right;\n",
       "    }\n",
       "</style>\n",
       "<table border=\"1\" class=\"dataframe\">\n",
       "  <thead>\n",
       "    <tr style=\"text-align: right;\">\n",
       "      <th></th>\n",
       "      <th>level_0</th>\n",
       "      <th>index</th>\n",
       "      <th>RecommendStatus</th>\n",
       "      <th>ReviewHelpful</th>\n",
       "      <th>Rating</th>\n",
       "      <th>Comments</th>\n",
       "      <th>Title</th>\n",
       "      <th>Username</th>\n",
       "    </tr>\n",
       "  </thead>\n",
       "  <tbody>\n",
       "    <tr>\n",
       "      <th>0</th>\n",
       "      <td>0</td>\n",
       "      <td>0</td>\n",
       "      <td>Recommend</td>\n",
       "      <td>0.0</td>\n",
       "      <td>5.0</td>\n",
       "      <td>Was a gift for our 8 year old daughter. Great ...</td>\n",
       "      <td>Great for kids</td>\n",
       "      <td>Bubba</td>\n",
       "    </tr>\n",
       "    <tr>\n",
       "      <th>1</th>\n",
       "      <td>1</td>\n",
       "      <td>1</td>\n",
       "      <td>Recommend</td>\n",
       "      <td>0.0</td>\n",
       "      <td>5.0</td>\n",
       "      <td>my grandkids love it. This is the 3 one we bou...</td>\n",
       "      <td>kids love it</td>\n",
       "      <td>skeet</td>\n",
       "    </tr>\n",
       "    <tr>\n",
       "      <th>2</th>\n",
       "      <td>2</td>\n",
       "      <td>2</td>\n",
       "      <td>Recommend</td>\n",
       "      <td>0.0</td>\n",
       "      <td>3.0</td>\n",
       "      <td>Great case ok tablet no Android play store. We...</td>\n",
       "      <td>Tablet not for kids</td>\n",
       "      <td>Kidsphone</td>\n",
       "    </tr>\n",
       "    <tr>\n",
       "      <th>3</th>\n",
       "      <td>3</td>\n",
       "      <td>3</td>\n",
       "      <td>Recommend</td>\n",
       "      <td>0.0</td>\n",
       "      <td>3.0</td>\n",
       "      <td>Grandson became board with what it offers. Plu...</td>\n",
       "      <td>Good for young kids</td>\n",
       "      <td>Shannon</td>\n",
       "    </tr>\n",
       "    <tr>\n",
       "      <th>4</th>\n",
       "      <td>4</td>\n",
       "      <td>4</td>\n",
       "      <td>Not Recommend</td>\n",
       "      <td>0.0</td>\n",
       "      <td>1.0</td>\n",
       "      <td>This product wouldn't turn on nor charge and t...</td>\n",
       "      <td>Product Issues</td>\n",
       "      <td>FitnessBuff</td>\n",
       "    </tr>\n",
       "  </tbody>\n",
       "</table>\n",
       "</div>"
      ],
      "text/plain": [
       "   level_0  index RecommendStatus  ReviewHelpful  Rating  \\\n",
       "0        0      0       Recommend            0.0     5.0   \n",
       "1        1      1       Recommend            0.0     5.0   \n",
       "2        2      2       Recommend            0.0     3.0   \n",
       "3        3      3       Recommend            0.0     3.0   \n",
       "4        4      4   Not Recommend            0.0     1.0   \n",
       "\n",
       "                                            Comments                Title  \\\n",
       "0  Was a gift for our 8 year old daughter. Great ...       Great for kids   \n",
       "1  my grandkids love it. This is the 3 one we bou...         kids love it   \n",
       "2  Great case ok tablet no Android play store. We...  Tablet not for kids   \n",
       "3  Grandson became board with what it offers. Plu...  Good for young kids   \n",
       "4  This product wouldn't turn on nor charge and t...       Product Issues   \n",
       "\n",
       "      Username  \n",
       "0        Bubba  \n",
       "1        skeet  \n",
       "2    Kidsphone  \n",
       "3      Shannon  \n",
       "4  FitnessBuff  "
      ]
     },
     "execution_count": 38,
     "metadata": {},
     "output_type": "execute_result"
    }
   ],
   "source": [
    "def status(data):\n",
    "    if(data == True):\n",
    "        data = \"Recommend\"\n",
    "        return data\n",
    "    else:\n",
    "        data = \"Not Recommend\"\n",
    "        return data\n",
    "    \n",
    "data['RecommendStatus'] = pd.DataFrame(data['RecommendStatus'].apply(lambda x : status(x)))\n",
    "data.head(5)"
   ]
  },
  {
   "cell_type": "code",
   "execution_count": 41,
   "metadata": {},
   "outputs": [],
   "source": [
    "dsa = data\n",
    "dsa['feedback'] = dsa['Comments'] + dsa['Title']\n",
    "dsa = dsa.drop(['Comments','Title'], axis = 1)"
   ]
  },
  {
   "cell_type": "code",
   "execution_count": 42,
   "metadata": {},
   "outputs": [
    {
     "data": {
      "text/html": [
       "<div>\n",
       "<style scoped>\n",
       "    .dataframe tbody tr th:only-of-type {\n",
       "        vertical-align: middle;\n",
       "    }\n",
       "\n",
       "    .dataframe tbody tr th {\n",
       "        vertical-align: top;\n",
       "    }\n",
       "\n",
       "    .dataframe thead th {\n",
       "        text-align: right;\n",
       "    }\n",
       "</style>\n",
       "<table border=\"1\" class=\"dataframe\">\n",
       "  <thead>\n",
       "    <tr style=\"text-align: right;\">\n",
       "      <th></th>\n",
       "      <th>level_0</th>\n",
       "      <th>index</th>\n",
       "      <th>RecommendStatus</th>\n",
       "      <th>ReviewHelpful</th>\n",
       "      <th>Rating</th>\n",
       "      <th>Username</th>\n",
       "      <th>feedback</th>\n",
       "    </tr>\n",
       "  </thead>\n",
       "  <tbody>\n",
       "    <tr>\n",
       "      <th>0</th>\n",
       "      <td>0</td>\n",
       "      <td>0</td>\n",
       "      <td>Recommend</td>\n",
       "      <td>0.0</td>\n",
       "      <td>5.0</td>\n",
       "      <td>Bubba</td>\n",
       "      <td>Was a gift for our 8 year old daughter. Great ...</td>\n",
       "    </tr>\n",
       "    <tr>\n",
       "      <th>1</th>\n",
       "      <td>1</td>\n",
       "      <td>1</td>\n",
       "      <td>Recommend</td>\n",
       "      <td>0.0</td>\n",
       "      <td>5.0</td>\n",
       "      <td>skeet</td>\n",
       "      <td>my grandkids love it. This is the 3 one we bou...</td>\n",
       "    </tr>\n",
       "    <tr>\n",
       "      <th>2</th>\n",
       "      <td>2</td>\n",
       "      <td>2</td>\n",
       "      <td>Recommend</td>\n",
       "      <td>0.0</td>\n",
       "      <td>3.0</td>\n",
       "      <td>Kidsphone</td>\n",
       "      <td>Great case ok tablet no Android play store. We...</td>\n",
       "    </tr>\n",
       "    <tr>\n",
       "      <th>3</th>\n",
       "      <td>3</td>\n",
       "      <td>3</td>\n",
       "      <td>Recommend</td>\n",
       "      <td>0.0</td>\n",
       "      <td>3.0</td>\n",
       "      <td>Shannon</td>\n",
       "      <td>Grandson became board with what it offers. Plu...</td>\n",
       "    </tr>\n",
       "    <tr>\n",
       "      <th>4</th>\n",
       "      <td>4</td>\n",
       "      <td>4</td>\n",
       "      <td>Not Recommend</td>\n",
       "      <td>0.0</td>\n",
       "      <td>1.0</td>\n",
       "      <td>FitnessBuff</td>\n",
       "      <td>This product wouldn't turn on nor charge and t...</td>\n",
       "    </tr>\n",
       "  </tbody>\n",
       "</table>\n",
       "</div>"
      ],
      "text/plain": [
       "   level_0  index RecommendStatus  ReviewHelpful  Rating     Username  \\\n",
       "0        0      0       Recommend            0.0     5.0        Bubba   \n",
       "1        1      1       Recommend            0.0     5.0        skeet   \n",
       "2        2      2       Recommend            0.0     3.0    Kidsphone   \n",
       "3        3      3       Recommend            0.0     3.0      Shannon   \n",
       "4        4      4   Not Recommend            0.0     1.0  FitnessBuff   \n",
       "\n",
       "                                            feedback  \n",
       "0  Was a gift for our 8 year old daughter. Great ...  \n",
       "1  my grandkids love it. This is the 3 one we bou...  \n",
       "2  Great case ok tablet no Android play store. We...  \n",
       "3  Grandson became board with what it offers. Plu...  \n",
       "4  This product wouldn't turn on nor charge and t...  "
      ]
     },
     "execution_count": 42,
     "metadata": {},
     "output_type": "execute_result"
    }
   ],
   "source": [
    "dsa.head(5)\n"
   ]
  },
  {
   "cell_type": "code",
   "execution_count": 43,
   "metadata": {},
   "outputs": [],
   "source": [
    "import nltk"
   ]
  },
  {
   "cell_type": "code",
   "execution_count": 44,
   "metadata": {},
   "outputs": [],
   "source": [
    "from nltk.sentiment.vader import SentimentIntensityAnalyzer\n",
    "sid = SentimentIntensityAnalyzer()\n",
    "\n",
    "def polar_score(text):\n",
    "    score = sid.polarity_scores(text)\n",
    "    x = score['compound']\n",
    "    return x\n",
    "\n",
    "\n",
    "dsa['Compound_Score'] = dsa['feedback'].apply(lambda x : polar_score(x))"
   ]
  },
  {
   "cell_type": "code",
   "execution_count": 45,
   "metadata": {},
   "outputs": [
    {
     "data": {
      "text/html": [
       "<div>\n",
       "<style scoped>\n",
       "    .dataframe tbody tr th:only-of-type {\n",
       "        vertical-align: middle;\n",
       "    }\n",
       "\n",
       "    .dataframe tbody tr th {\n",
       "        vertical-align: top;\n",
       "    }\n",
       "\n",
       "    .dataframe thead th {\n",
       "        text-align: right;\n",
       "    }\n",
       "</style>\n",
       "<table border=\"1\" class=\"dataframe\">\n",
       "  <thead>\n",
       "    <tr style=\"text-align: right;\">\n",
       "      <th></th>\n",
       "      <th>level_0</th>\n",
       "      <th>index</th>\n",
       "      <th>RecommendStatus</th>\n",
       "      <th>ReviewHelpful</th>\n",
       "      <th>Rating</th>\n",
       "      <th>Username</th>\n",
       "      <th>feedback</th>\n",
       "      <th>Compound_Score</th>\n",
       "    </tr>\n",
       "  </thead>\n",
       "  <tbody>\n",
       "    <tr>\n",
       "      <th>0</th>\n",
       "      <td>0</td>\n",
       "      <td>0</td>\n",
       "      <td>Recommend</td>\n",
       "      <td>0.0</td>\n",
       "      <td>5.0</td>\n",
       "      <td>Bubba</td>\n",
       "      <td>Was a gift for our 8 year old daughter. Great ...</td>\n",
       "      <td>0.7906</td>\n",
       "    </tr>\n",
       "    <tr>\n",
       "      <th>1</th>\n",
       "      <td>1</td>\n",
       "      <td>1</td>\n",
       "      <td>Recommend</td>\n",
       "      <td>0.0</td>\n",
       "      <td>5.0</td>\n",
       "      <td>skeet</td>\n",
       "      <td>my grandkids love it. This is the 3 one we bou...</td>\n",
       "      <td>0.8555</td>\n",
       "    </tr>\n",
       "    <tr>\n",
       "      <th>2</th>\n",
       "      <td>2</td>\n",
       "      <td>2</td>\n",
       "      <td>Recommend</td>\n",
       "      <td>0.0</td>\n",
       "      <td>3.0</td>\n",
       "      <td>Kidsphone</td>\n",
       "      <td>Great case ok tablet no Android play store. We...</td>\n",
       "      <td>0.9457</td>\n",
       "    </tr>\n",
       "    <tr>\n",
       "      <th>3</th>\n",
       "      <td>3</td>\n",
       "      <td>3</td>\n",
       "      <td>Recommend</td>\n",
       "      <td>0.0</td>\n",
       "      <td>3.0</td>\n",
       "      <td>Shannon</td>\n",
       "      <td>Grandson became board with what it offers. Plu...</td>\n",
       "      <td>0.0000</td>\n",
       "    </tr>\n",
       "    <tr>\n",
       "      <th>4</th>\n",
       "      <td>4</td>\n",
       "      <td>4</td>\n",
       "      <td>Not Recommend</td>\n",
       "      <td>0.0</td>\n",
       "      <td>1.0</td>\n",
       "      <td>FitnessBuff</td>\n",
       "      <td>This product wouldn't turn on nor charge and t...</td>\n",
       "      <td>0.0000</td>\n",
       "    </tr>\n",
       "  </tbody>\n",
       "</table>\n",
       "</div>"
      ],
      "text/plain": [
       "   level_0  index RecommendStatus  ReviewHelpful  Rating     Username  \\\n",
       "0        0      0       Recommend            0.0     5.0        Bubba   \n",
       "1        1      1       Recommend            0.0     5.0        skeet   \n",
       "2        2      2       Recommend            0.0     3.0    Kidsphone   \n",
       "3        3      3       Recommend            0.0     3.0      Shannon   \n",
       "4        4      4   Not Recommend            0.0     1.0  FitnessBuff   \n",
       "\n",
       "                                            feedback  Compound_Score  \n",
       "0  Was a gift for our 8 year old daughter. Great ...          0.7906  \n",
       "1  my grandkids love it. This is the 3 one we bou...          0.8555  \n",
       "2  Great case ok tablet no Android play store. We...          0.9457  \n",
       "3  Grandson became board with what it offers. Plu...          0.0000  \n",
       "4  This product wouldn't turn on nor charge and t...          0.0000  "
      ]
     },
     "execution_count": 45,
     "metadata": {},
     "output_type": "execute_result"
    }
   ],
   "source": [
    "dsa.head(5)\n"
   ]
  },
  {
   "cell_type": "code",
   "execution_count": 46,
   "metadata": {},
   "outputs": [
    {
     "data": {
      "text/html": [
       "<div>\n",
       "<style scoped>\n",
       "    .dataframe tbody tr th:only-of-type {\n",
       "        vertical-align: middle;\n",
       "    }\n",
       "\n",
       "    .dataframe tbody tr th {\n",
       "        vertical-align: top;\n",
       "    }\n",
       "\n",
       "    .dataframe thead th {\n",
       "        text-align: right;\n",
       "    }\n",
       "</style>\n",
       "<table border=\"1\" class=\"dataframe\">\n",
       "  <thead>\n",
       "    <tr style=\"text-align: right;\">\n",
       "      <th></th>\n",
       "      <th>level_0</th>\n",
       "      <th>index</th>\n",
       "      <th>RecommendStatus</th>\n",
       "      <th>ReviewHelpful</th>\n",
       "      <th>Rating</th>\n",
       "      <th>Username</th>\n",
       "      <th>feedback</th>\n",
       "      <th>Compound_Score</th>\n",
       "      <th>length</th>\n",
       "    </tr>\n",
       "  </thead>\n",
       "  <tbody>\n",
       "    <tr>\n",
       "      <th>0</th>\n",
       "      <td>0</td>\n",
       "      <td>0</td>\n",
       "      <td>Recommend</td>\n",
       "      <td>0.0</td>\n",
       "      <td>5.0</td>\n",
       "      <td>Bubba</td>\n",
       "      <td>Was a gift for our 8 year old daughter. Great ...</td>\n",
       "      <td>0.7906</td>\n",
       "      <td>55</td>\n",
       "    </tr>\n",
       "    <tr>\n",
       "      <th>1</th>\n",
       "      <td>1</td>\n",
       "      <td>1</td>\n",
       "      <td>Recommend</td>\n",
       "      <td>0.0</td>\n",
       "      <td>5.0</td>\n",
       "      <td>skeet</td>\n",
       "      <td>my grandkids love it. This is the 3 one we bou...</td>\n",
       "      <td>0.8555</td>\n",
       "      <td>50</td>\n",
       "    </tr>\n",
       "  </tbody>\n",
       "</table>\n",
       "</div>"
      ],
      "text/plain": [
       "   level_0  index RecommendStatus  ReviewHelpful  Rating Username  \\\n",
       "0        0      0       Recommend            0.0     5.0    Bubba   \n",
       "1        1      1       Recommend            0.0     5.0    skeet   \n",
       "\n",
       "                                            feedback  Compound_Score  length  \n",
       "0  Was a gift for our 8 year old daughter. Great ...          0.7906      55  \n",
       "1  my grandkids love it. This is the 3 one we bou...          0.8555      50  "
      ]
     },
     "execution_count": 46,
     "metadata": {},
     "output_type": "execute_result"
    }
   ],
   "source": [
    "dsa['length'] = dsa['feedback'].apply(lambda x: len(x) - x.count(\" \"))\n",
    "dsa.head(2)"
   ]
  },
  {
   "cell_type": "code",
   "execution_count": null,
   "metadata": {},
   "outputs": [],
   "source": [
    "#Ideally people who'll Not Recommend the product, would have a lot to say against the features of the product"
   ]
  },
  {
   "cell_type": "code",
   "execution_count": 47,
   "metadata": {},
   "outputs": [],
   "source": [
    "import numpy as np\n",
    "from matplotlib import pyplot\n",
    "%matplotlib inline"
   ]
  },
  {
   "cell_type": "code",
   "execution_count": 51,
   "metadata": {},
   "outputs": [
    {
     "data": {
      "image/png": "[encoded data removed]",
      "text/plain": [
       "<Figure size 432x288 with 1 Axes>"
      ]
     },
     "metadata": {
      "needs_background": "light"
     },
     "output_type": "display_data"
    }
   ],
   "source": [
    "bins = np.linspace(0,200,40)\n",
    "pyplot.hist(dsa[dsa['RecommendStatus'] == 'Not Recommend']['length'],bins,alpha  = 0.5,density = True, label = 'Not Recommend')\n",
    "pyplot.hist(dsa[dsa['RecommendStatus'] == 'Recommend']['length'],bins,alpha = 0.5,density = True, label = 'Recommend')\n",
    "pyplot.legend(loc = 'upper right')\n",
    "pyplot.show()"
   ]
  },
  {
   "cell_type": "code",
   "execution_count": null,
   "metadata": {},
   "outputs": [],
   "source": [
    "#Using TF-IDF and Random Forest to predict Recommendation Status"
   ]
  },
  {
   "cell_type": "code",
   "execution_count": 52,
   "metadata": {},
   "outputs": [],
   "source": [
    "import string\n",
    "import nltk\n",
    "import re\n",
    "stopword =  nltk.corpus.stopwords.words('english')\n",
    "ps = nltk.PorterStemmer()"
   ]
  },
  {
   "cell_type": "code",
   "execution_count": 53,
   "metadata": {},
   "outputs": [],
   "source": [
    "def clean(text):\n",
    "    no_punct = \"\".join([word.lower() for word in text if word not in string.punctuation])\n",
    "    tokens = re.split('\\W+',no_punct)\n",
    "    text_stem = ([ps.stem(word) for word in tokens if word not in stopword])\n",
    "    return text_stem"
   ]
  },
  {
   "cell_type": "code",
   "execution_count": 54,
   "metadata": {},
   "outputs": [],
   "source": [
    "from sklearn.feature_extraction.text import TfidfVectorizer\n",
    "tf_idf = TfidfVectorizer(analyzer= clean)\n",
    "Xtf_idfVector = tf_idf.fit_transform(dsa['feedback'])"
   ]
  },
  {
   "cell_type": "code",
   "execution_count": 55,
   "metadata": {},
   "outputs": [
    {
     "data": {
      "text/html": [
       "<div>\n",
       "<style scoped>\n",
       "    .dataframe tbody tr th:only-of-type {\n",
       "        vertical-align: middle;\n",
       "    }\n",
       "\n",
       "    .dataframe tbody tr th {\n",
       "        vertical-align: top;\n",
       "    }\n",
       "\n",
       "    .dataframe thead th {\n",
       "        text-align: right;\n",
       "    }\n",
       "</style>\n",
       "<table border=\"1\" class=\"dataframe\">\n",
       "  <thead>\n",
       "    <tr style=\"text-align: right;\">\n",
       "      <th></th>\n",
       "      <th>Compound_Score</th>\n",
       "      <th>length</th>\n",
       "      <th>0</th>\n",
       "      <th>1</th>\n",
       "      <th>2</th>\n",
       "      <th>3</th>\n",
       "      <th>4</th>\n",
       "      <th>5</th>\n",
       "      <th>6</th>\n",
       "      <th>7</th>\n",
       "      <th>...</th>\n",
       "      <th>5749</th>\n",
       "      <th>5750</th>\n",
       "      <th>5751</th>\n",
       "      <th>5752</th>\n",
       "      <th>5753</th>\n",
       "      <th>5754</th>\n",
       "      <th>5755</th>\n",
       "      <th>5756</th>\n",
       "      <th>5757</th>\n",
       "      <th>5758</th>\n",
       "    </tr>\n",
       "  </thead>\n",
       "  <tbody>\n",
       "    <tr>\n",
       "      <th>0</th>\n",
       "      <td>0.7906</td>\n",
       "      <td>55</td>\n",
       "      <td>0.0</td>\n",
       "      <td>0.0</td>\n",
       "      <td>0.0</td>\n",
       "      <td>0.0</td>\n",
       "      <td>0.0</td>\n",
       "      <td>0.0</td>\n",
       "      <td>0.0</td>\n",
       "      <td>0.0</td>\n",
       "      <td>...</td>\n",
       "      <td>0.0</td>\n",
       "      <td>0.0</td>\n",
       "      <td>0.0</td>\n",
       "      <td>0.0</td>\n",
       "      <td>0.0</td>\n",
       "      <td>0.0</td>\n",
       "      <td>0.0</td>\n",
       "      <td>0.0</td>\n",
       "      <td>0.0</td>\n",
       "      <td>0.0</td>\n",
       "    </tr>\n",
       "    <tr>\n",
       "      <th>1</th>\n",
       "      <td>0.8555</td>\n",
       "      <td>50</td>\n",
       "      <td>0.0</td>\n",
       "      <td>0.0</td>\n",
       "      <td>0.0</td>\n",
       "      <td>0.0</td>\n",
       "      <td>0.0</td>\n",
       "      <td>0.0</td>\n",
       "      <td>0.0</td>\n",
       "      <td>0.0</td>\n",
       "      <td>...</td>\n",
       "      <td>0.0</td>\n",
       "      <td>0.0</td>\n",
       "      <td>0.0</td>\n",
       "      <td>0.0</td>\n",
       "      <td>0.0</td>\n",
       "      <td>0.0</td>\n",
       "      <td>0.0</td>\n",
       "      <td>0.0</td>\n",
       "      <td>0.0</td>\n",
       "      <td>0.0</td>\n",
       "    </tr>\n",
       "    <tr>\n",
       "      <th>2</th>\n",
       "      <td>0.9457</td>\n",
       "      <td>223</td>\n",
       "      <td>0.0</td>\n",
       "      <td>0.0</td>\n",
       "      <td>0.0</td>\n",
       "      <td>0.0</td>\n",
       "      <td>0.0</td>\n",
       "      <td>0.0</td>\n",
       "      <td>0.0</td>\n",
       "      <td>0.0</td>\n",
       "      <td>...</td>\n",
       "      <td>0.0</td>\n",
       "      <td>0.0</td>\n",
       "      <td>0.0</td>\n",
       "      <td>0.0</td>\n",
       "      <td>0.0</td>\n",
       "      <td>0.0</td>\n",
       "      <td>0.0</td>\n",
       "      <td>0.0</td>\n",
       "      <td>0.0</td>\n",
       "      <td>0.0</td>\n",
       "    </tr>\n",
       "    <tr>\n",
       "      <th>3</th>\n",
       "      <td>0.0000</td>\n",
       "      <td>68</td>\n",
       "      <td>0.0</td>\n",
       "      <td>0.0</td>\n",
       "      <td>0.0</td>\n",
       "      <td>0.0</td>\n",
       "      <td>0.0</td>\n",
       "      <td>0.0</td>\n",
       "      <td>0.0</td>\n",
       "      <td>0.0</td>\n",
       "      <td>...</td>\n",
       "      <td>0.0</td>\n",
       "      <td>0.0</td>\n",
       "      <td>0.0</td>\n",
       "      <td>0.0</td>\n",
       "      <td>0.0</td>\n",
       "      <td>0.0</td>\n",
       "      <td>0.0</td>\n",
       "      <td>0.0</td>\n",
       "      <td>0.0</td>\n",
       "      <td>0.0</td>\n",
       "    </tr>\n",
       "    <tr>\n",
       "      <th>4</th>\n",
       "      <td>0.0000</td>\n",
       "      <td>89</td>\n",
       "      <td>0.0</td>\n",
       "      <td>0.0</td>\n",
       "      <td>0.0</td>\n",
       "      <td>0.0</td>\n",
       "      <td>0.0</td>\n",
       "      <td>0.0</td>\n",
       "      <td>0.0</td>\n",
       "      <td>0.0</td>\n",
       "      <td>...</td>\n",
       "      <td>0.0</td>\n",
       "      <td>0.0</td>\n",
       "      <td>0.0</td>\n",
       "      <td>0.0</td>\n",
       "      <td>0.0</td>\n",
       "      <td>0.0</td>\n",
       "      <td>0.0</td>\n",
       "      <td>0.0</td>\n",
       "      <td>0.0</td>\n",
       "      <td>0.0</td>\n",
       "    </tr>\n",
       "  </tbody>\n",
       "</table>\n",
       "<p>5 rows × 5761 columns</p>\n",
       "</div>"
      ],
      "text/plain": [
       "   Compound_Score  length    0    1    2    3    4    5    6    7  ...  5749  \\\n",
       "0          0.7906      55  0.0  0.0  0.0  0.0  0.0  0.0  0.0  0.0  ...   0.0   \n",
       "1          0.8555      50  0.0  0.0  0.0  0.0  0.0  0.0  0.0  0.0  ...   0.0   \n",
       "2          0.9457     223  0.0  0.0  0.0  0.0  0.0  0.0  0.0  0.0  ...   0.0   \n",
       "3          0.0000      68  0.0  0.0  0.0  0.0  0.0  0.0  0.0  0.0  ...   0.0   \n",
       "4          0.0000      89  0.0  0.0  0.0  0.0  0.0  0.0  0.0  0.0  ...   0.0   \n",
       "\n",
       "   5750  5751  5752  5753  5754  5755  5756  5757  5758  \n",
       "0   0.0   0.0   0.0   0.0   0.0   0.0   0.0   0.0   0.0  \n",
       "1   0.0   0.0   0.0   0.0   0.0   0.0   0.0   0.0   0.0  \n",
       "2   0.0   0.0   0.0   0.0   0.0   0.0   0.0   0.0   0.0  \n",
       "3   0.0   0.0   0.0   0.0   0.0   0.0   0.0   0.0   0.0  \n",
       "4   0.0   0.0   0.0   0.0   0.0   0.0   0.0   0.0   0.0  \n",
       "\n",
       "[5 rows x 5761 columns]"
      ]
     },
     "execution_count": 55,
     "metadata": {},
     "output_type": "execute_result"
    }
   ],
   "source": [
    "import pandas as pd\n",
    "\n",
    "Xfeatures_data = pd.concat([dsa['Compound_Score'], dsa['length'], pd.DataFrame(Xtf_idfVector.toarray())], axis = 1)\n",
    "Xfeatures_data.head(5)"
   ]
  },
  {
   "cell_type": "code",
   "execution_count": null,
   "metadata": {},
   "outputs": [],
   "source": [
    "#dataframe we would be applying Machine Learning to"
   ]
  },
  {
   "cell_type": "code",
   "execution_count": 56,
   "metadata": {},
   "outputs": [
    {
     "data": {
      "text/plain": [
       "[(0.01680037316907334, 'length'),\n",
       " (0.015359929135272414, 'Compound_Score'),\n",
       " (0.012017404575998113, 3772),\n",
       " (0.011470362792498958, 5408),\n",
       " (0.011463599266067347, 5190),\n",
       " (0.010701169470533747, 2115),\n",
       " (0.010019290213056642, 472),\n",
       " (0.0093124534723309, 3973),\n",
       " (0.008224516728101027, 5495),\n",
       " (0.008066299430849862, 1484)]"
      ]
     },
     "execution_count": 56,
     "metadata": {},
     "output_type": "execute_result"
    }
   ],
   "source": [
    "from sklearn.ensemble import RandomForestClassifier\n",
    "from sklearn.metrics import precision_recall_fscore_support as score\n",
    "from sklearn.model_selection import train_test_split\n",
    "X_train,X_test,y_train,y_test = train_test_split(Xfeatures_data, dsa['RecommendStatus'], test_size = 0.2)\n",
    "\n",
    "rf = RandomForestClassifier(n_estimators= 50, max_depth= 20, n_jobs= -1)\n",
    "rf_model = rf.fit(X_train,y_train)\n",
    "sorted(zip(rf.feature_importances_,X_train.columns), reverse = True)[0:10]\n"
   ]
  },
  {
   "cell_type": "code",
   "execution_count": null,
   "metadata": {},
   "outputs": [],
   "source": [
    "#Applying Grid Search to change hyper parameters and then applying RF"
   ]
  },
  {
   "cell_type": "code",
   "execution_count": 57,
   "metadata": {},
   "outputs": [],
   "source": [
    "def compute(n_est, depth):\n",
    "    rf = RandomForestClassifier(n_estimators= n_est, max_depth= depth)\n",
    "    rf_model = rf.fit(X_train, y_train)\n",
    "    y_pred  = rf_model.predict(X_test)\n",
    "    precision,recall,fscore,support  = score(y_test,y_pred, pos_label= 'Recommend', average = 'binary')\n",
    "    print('Est: {}\\ Depth: {}\\ Precision: {}\\ Recall: {}\\ Accuracy: {}'.format(n_est, depth, round(precision,3), round(recall,3), (y_pred == y_test).sum()/ len(y_pred)))"
   ]
  },
  {
   "cell_type": "code",
   "execution_count": 58,
   "metadata": {},
   "outputs": [
    {
     "name": "stdout",
     "output_type": "stream",
     "text": [
      "Est: 10\\ Depth: 20\\ Precision: 0.98\\ Recall: 1.0\\ Accuracy: 0.9797507788161994\n",
      "Est: 10\\ Depth: 40\\ Precision: 0.98\\ Recall: 1.0\\ Accuracy: 0.9797507788161994\n",
      "Est: 10\\ Depth: 60\\ Precision: 0.98\\ Recall: 1.0\\ Accuracy: 0.9797507788161994\n",
      "Est: 10\\ Depth: 80\\ Precision: 0.98\\ Recall: 1.0\\ Accuracy: 0.9797507788161994\n",
      "Est: 10\\ Depth: 90\\ Precision: 0.98\\ Recall: 1.0\\ Accuracy: 0.9797507788161994\n",
      "Est: 30\\ Depth: 20\\ Precision: 0.98\\ Recall: 1.0\\ Accuracy: 0.9797507788161994\n",
      "Est: 30\\ Depth: 40\\ Precision: 0.98\\ Recall: 1.0\\ Accuracy: 0.9797507788161994\n",
      "Est: 30\\ Depth: 60\\ Precision: 0.98\\ Recall: 1.0\\ Accuracy: 0.9797507788161994\n",
      "Est: 30\\ Depth: 80\\ Precision: 0.98\\ Recall: 1.0\\ Accuracy: 0.9797507788161994\n",
      "Est: 30\\ Depth: 90\\ Precision: 0.98\\ Recall: 1.0\\ Accuracy: 0.9797507788161994\n",
      "Est: 50\\ Depth: 20\\ Precision: 0.98\\ Recall: 1.0\\ Accuracy: 0.9797507788161994\n",
      "Est: 50\\ Depth: 40\\ Precision: 0.98\\ Recall: 1.0\\ Accuracy: 0.9797507788161994\n",
      "Est: 50\\ Depth: 60\\ Precision: 0.98\\ Recall: 1.0\\ Accuracy: 0.9797507788161994\n",
      "Est: 50\\ Depth: 80\\ Precision: 0.98\\ Recall: 1.0\\ Accuracy: 0.9797507788161994\n",
      "Est: 50\\ Depth: 90\\ Precision: 0.98\\ Recall: 1.0\\ Accuracy: 0.9797507788161994\n",
      "Est: 70\\ Depth: 20\\ Precision: 0.98\\ Recall: 1.0\\ Accuracy: 0.9797507788161994\n",
      "Est: 70\\ Depth: 40\\ Precision: 0.98\\ Recall: 1.0\\ Accuracy: 0.9797507788161994\n",
      "Est: 70\\ Depth: 60\\ Precision: 0.98\\ Recall: 1.0\\ Accuracy: 0.9797507788161994\n",
      "Est: 70\\ Depth: 80\\ Precision: 0.98\\ Recall: 1.0\\ Accuracy: 0.9797507788161994\n",
      "Est: 70\\ Depth: 90\\ Precision: 0.98\\ Recall: 1.0\\ Accuracy: 0.9797507788161994\n"
     ]
    }
   ],
   "source": [
    "for n_est in [10,30,50,70]:\n",
    "    for depth in [20,40,60,80,90]:\n",
    "        compute(n_est,depth)\n",
    "    "
   ]
  },
  {
   "cell_type": "code",
   "execution_count": null,
   "metadata": {},
   "outputs": [],
   "source": [
    "#Feature Engineering played a key role in boosting the model's performance matrix. \n",
    "#The length of the text and calculation of compound_score using sentiment analysis served as a basis to strike a balance between Precision & Recall (0.975 vs 1.0).\n",
    "#further made the model robust enough to predict user's recommend status to 97.5%\n",
    "\n",
    "#This concludes our Analysis of the Kindle Paperwhite."
   ]
  }
 ],
 "metadata": {
  "kernelspec": {
   "display_name": "Python 3",
   "language": "python",
   "name": "python3"
  },
  "language_info": {
   "codemirror_mode": {
    "name": "ipython",
    "version": 3
   },
   "file_extension": ".py",
   "mimetype": "text/x-python",
   "name": "python",
   "nbconvert_exporter": "python",
   "pygments_lexer": "ipython3",
   "version": "3.8.3"
  }
 },
 "nbformat": 4,
 "nbformat_minor": 4
}
